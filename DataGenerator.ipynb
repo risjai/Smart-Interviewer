{
 "cells": [
  {
   "cell_type": "code",
   "execution_count": 3,
   "metadata": {},
   "outputs": [],
   "source": [
    "from openpyxl import Workbook\n",
    "from openpyxl.compat import range\n",
    "from openpyxl.utils.dataframe import dataframe_to_rows\n",
    "import pandas as pd\n",
    "import numpy as np"
   ]
  },
  {
   "cell_type": "code",
   "execution_count": 4,
   "metadata": {},
   "outputs": [],
   "source": [
    "#Assign random weights\n",
    "weights = {'Problem Solving': 80, 'Design': 80, 'CS Skills': 50, 'Test Enumeration': 40, 'Communication': 30}"
   ]
  },
  {
   "cell_type": "code",
   "execution_count": 5,
   "metadata": {},
   "outputs": [],
   "source": [
    "def calculateScore(df):\n",
    "    Score = []\n",
    "    for index, row in df.iterrows():\n",
    "        numerator = 0; denominator = 0;\n",
    "        for key, value in weights.items():\n",
    "            if(row[key] != -1):\n",
    "                numerator += row[key]*value\n",
    "                denominator += value\n",
    "        Score.append(numerator/denominator if numerator > 0 else -1)\n",
    "    print(len(Score))\n",
    "    return Score\n",
    "     "
   ]
  },
  {
   "cell_type": "code",
   "execution_count": 6,
   "metadata": {},
   "outputs": [],
   "source": [
    "def calculateFinalCall(df):\n",
    "    FinalCall = []\n",
    "    for x in range (0, 1000):\n",
    "        if(x % 4 == 0):\n",
    "            count = 0\n",
    "            for y in range (0,4):\n",
    "                count += df.loc[x + y]['Interviewer Call']\n",
    "            #print(count)\n",
    "            finalDecision = 1 if count >= 3 else 0\n",
    "            for z in range (0,4):\n",
    "                FinalCall.append(finalDecision)\n",
    "    print(len(FinalCall))\n",
    "    return FinalCall\n",
    "        "
   ]
  },
  {
   "cell_type": "code",
   "execution_count": 6,
   "metadata": {},
   "outputs": [],
   "source": [
    "def computeDecision(df):\n",
    "    percentile70 = np.percentile(df['Score'], 70)\n",
    "    percentile50 = np.percentile(df['Score'], 50)\n",
    "    if(df['Score'] >= percentile70):\n",
    "         df['Interviewer Call'] = 1\n",
    "    elif(df['Score'] < percentile70 and df['Score'] >= percentile50):\n",
    "        df['Interviewer Call'] = np.random.randint(2)\n",
    "    else:\n",
    "        df['Interviewer Call'] = 0"
   ]
  },
  {
   "cell_type": "code",
   "execution_count": 7,
   "metadata": {},
   "outputs": [],
   "source": [
    "def script():\n",
    "    wb = Workbook()\n",
    "\n",
    "    # grab the active worksheet\n",
    "    ws = wb.active\n",
    "\n",
    "    # initializeHeaders(ws)\n",
    "    \n",
    "    #Initialize metrics\n",
    "    df = pd.DataFrame(np.random.randint(low=0, high=12, size=(1000, 5)), columns=['Problem Solving', 'Design', 'CS Skills' , 'Test Enumeration' , 'Communication'])\n",
    "    \n",
    "    # Make some fields as -1. Now scores lie within 2 to 9 and empty values are -1\n",
    "    df = df.applymap(lambda x : (-1 if x in (0, 1, 10, 11) else x))\n",
    "    \n",
    "    #Populate intervieweeId\n",
    "    intervieweeId = []\n",
    "    for x in range (1, 1001):\n",
    "        intervieweeId.append(np.ceil(x/4))\n",
    "    df['intervieweeId'] = intervieweeId\n",
    "    \n",
    "    #Populate interviewerId\n",
    "    df['interviewerId'] = np.random.randint(1, 101, df.shape[0])\n",
    "    \n",
    "    #Populate score based on weighted average \n",
    "    df['Score'] = calculateScore(df)\n",
    "    \n",
    "    \n",
    "    df['Interviewer Call'] = df.apply(lambda row : computeDecision, axis =1)\n",
    "    \n",
    "    print(df[df['Interviewer Call'] == 1].count())\n",
    "    \n",
    "    #Populate final call\n",
    "    df['Final Call'] = calculateFinalCall(df)\n",
    "    \n",
    "    #TODO : Make blow comment work, to check actual how many candidates are hired\n",
    "    #print(df.groupby('intervieweeId')['Final Call'].filter(lambda x : x['Final Call'] == 1))\n",
    "    print(df['Final Call'].value_counts())\n",
    "    \n",
    "    print(df.head())\n",
    "    \n",
    "    for r in dataframe_to_rows(df, index=True, header=True):\n",
    "        ws.append(r)\n",
    "\n",
    "    # Save the file\n",
    "    wb.save(\"sample.xlsx\")"
   ]
  },
  {
   "cell_type": "code",
   "execution_count": 8,
   "metadata": {
    "scrolled": true
   },
   "outputs": [
    {
     "name": "stdout",
     "output_type": "stream",
     "text": [
      "1000\n",
      "Problem Solving     403\n",
      "Design              403\n",
      "CS Skills           403\n",
      "Test Enumeration    403\n",
      "Communication       403\n",
      "intervieweeId       403\n",
      "interviewerId       403\n",
      "Score               403\n",
      "Interviewer Call    403\n",
      "dtype: int64\n",
      "1000\n",
      "   Problem Solving  Design  CS Skills  Test Enumeration  Communication  \\\n",
      "0                7       3         -1                 2              3   \n",
      "1               -1       4          7                -1              3   \n",
      "2                8       9         -1                 9              6   \n",
      "3                5       2          5                 9              2   \n",
      "4                3       3          2                 6             -1   \n",
      "\n",
      "   intervieweeId  interviewerId     Score  Interviewer Call  Final Call  \n",
      "0            1.0             51  4.217391                 0           0  \n",
      "1            1.0             67  4.750000                 0           0  \n",
      "2            1.0             77  8.260870                 1           0  \n",
      "3            1.0              7  4.392857                 0           0  \n",
      "4            2.0             39  3.280000                 0           0  \n"
     ]
    }
   ],
   "source": [
    "script()"
   ]
  },
  {
   "cell_type": "code",
   "execution_count": 11,
   "metadata": {},
   "outputs": [
    {
     "ename": "NameError",
     "evalue": "name 'df' is not defined",
     "output_type": "error",
     "traceback": [
      "\u001b[1;31m---------------------------------------------------------------------------\u001b[0m",
      "\u001b[1;31mNameError\u001b[0m                                 Traceback (most recent call last)",
      "\u001b[1;32m<ipython-input-11-00cf07b74dcd>\u001b[0m in \u001b[0;36m<module>\u001b[1;34m()\u001b[0m\n\u001b[1;32m----> 1\u001b[1;33m \u001b[0mdf\u001b[0m\u001b[1;33m\u001b[0m\u001b[0m\n\u001b[0m",
      "\u001b[1;31mNameError\u001b[0m: name 'df' is not defined"
     ]
    }
   ],
   "source": [
    "df"
   ]
  },
  {
   "cell_type": "code",
   "execution_count": null,
   "metadata": {},
   "outputs": [],
   "source": []
  }
 ],
 "metadata": {
  "kernelspec": {
   "display_name": "Python 3",
   "language": "python",
   "name": "python3"
  },
  "language_info": {
   "codemirror_mode": {
    "name": "ipython",
    "version": 3
   },
   "file_extension": ".py",
   "mimetype": "text/x-python",
   "name": "python",
   "nbconvert_exporter": "python",
   "pygments_lexer": "ipython3",
   "version": "3.5.0"
  }
 },
 "nbformat": 4,
 "nbformat_minor": 2
}
