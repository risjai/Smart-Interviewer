{
 "cells": [
  {
   "cell_type": "code",
   "execution_count": 20,
   "metadata": {},
   "outputs": [],
   "source": [
    "from openpyxl import Workbook\n",
    "from openpyxl.compat import range\n",
    "from openpyxl.utils.dataframe import dataframe_to_rows\n",
    "import pandas as pd\n",
    "import numpy as np\n",
    "from IPython.core.debugger import Tracer"
   ]
  },
  {
   "cell_type": "code",
   "execution_count": 21,
   "metadata": {},
   "outputs": [],
   "source": [
    "#Assign random weights\n",
    "weights = {'Problem Solving': 80, 'Design': 80, 'CS Skills': 50, 'Test Enumeration': 40, 'Communication': 30}"
   ]
  },
  {
   "cell_type": "code",
   "execution_count": 22,
   "metadata": {},
   "outputs": [],
   "source": [
    "def calculateScore(df):\n",
    "    Score = []\n",
    "    for index, row in df.iterrows():\n",
    "        numerator = 0; denominator = 0;\n",
    "        for key, value in weights.items():\n",
    "            if(row[key] != -1):\n",
    "                numerator += row[key]*value\n",
    "                denominator += value\n",
    "        Score.append(numerator/denominator if numerator > 0 else -1)\n",
    "    print(len(Score))\n",
    "    return Score\n",
    "     "
   ]
  },
  {
   "cell_type": "code",
   "execution_count": 23,
   "metadata": {},
   "outputs": [],
   "source": [
    "def calculateFinalCall(df):\n",
    "    FinalCall = []\n",
    "    for x in range (0, 1000):\n",
    "        if(x % 4 == 0):\n",
    "            count = 0\n",
    "            for y in range (0,4):\n",
    "                count += df.loc[x + y]['Interviewer Call']\n",
    "            #print(count)\n",
    "            finalDecision = 1 if count >= 3 else 0\n",
    "            for z in range (0,4):\n",
    "                FinalCall.append(finalDecision)\n",
    "    print(len(FinalCall))\n",
    "    return FinalCall\n",
    "        "
   ]
  },
  {
   "cell_type": "code",
   "execution_count": 24,
   "metadata": {},
   "outputs": [],
   "source": [
    "def computeDecision(score):\n",
    "    percentile70 = np.percentile(score, 70)\n",
    "    percentile50 = np.percentile(score, 50)\n",
    "    print(percentile70)\n",
    "    if(score >= percentile70):\n",
    "         x = 1\n",
    "    elif(score < percentile70 and score >= percentile50):\n",
    "        x = np.random.randint(2)\n",
    "    else:\n",
    "        x = 0\n",
    "    return x"
   ]
  },
  {
   "cell_type": "code",
   "execution_count": 25,
   "metadata": {},
   "outputs": [],
   "source": [
    "def script():\n",
    "    wb = Workbook()\n",
    "\n",
    "    # grab the active worksheet\n",
    "    ws = wb.active\n",
    "\n",
    "    # initializeHeaders(ws)\n",
    "    \n",
    "    #Initialize metrics\n",
    "    df = pd.DataFrame(np.random.randint(low=0, high=12, size=(1000, 5)), columns=['Problem Solving', 'Design', 'CS Skills' , 'Test Enumeration' , 'Communication'])\n",
    "    \n",
    "    # Make some fields as -1. Now scores lie within 2 to 9 and empty values are -1\n",
    "    df = df.applymap(lambda x : (-1 if x in (0, 1, 10, 11) else x))\n",
    "    \n",
    "    #Populate intervieweeId\n",
    "    intervieweeId = []\n",
    "    for x in range (1, 1001):\n",
    "        intervieweeId.append(np.ceil(x/4))\n",
    "    df['intervieweeId'] = intervieweeId\n",
    "    \n",
    "    #Populate interviewerId\n",
    "    df['interviewerId'] = np.random.randint(1, 101, df.shape[0])\n",
    "    \n",
    "    #Populate score based on weighted average \n",
    "    df['Score'] = calculateScore(df)\n",
    "    \n",
    "    \n",
    "    df['Interviewer Call'] = df.Score.apply(fx)\n",
    "    \n",
    "    #Populate final call\n",
    "    df['Final Call'] = calculateFinalCall(df)\n",
    "    \n",
    "    #TODO : Make blow comment work, to check actual how many candidates are hired\n",
    "    #print(df.groupby('intervieweeId')['Final Call'].filter(lambda x : x['Final Call'] == 1))\n",
    "    print(df['Final Call'].value_counts())\n",
    "    \n",
    "    print(df.head())\n",
    "    \n",
    "    for r in dataframe_to_rows(df, index=True, header=True):\n",
    "        ws.append(r)\n",
    "\n",
    "    # Save the file\n",
    "    wb.save(\"sample.xlsx\")"
   ]
  },
  {
   "cell_type": "raw",
   "metadata": {
    "scrolled": true
   },
   "source": []
  },
  {
   "cell_type": "code",
   "execution_count": null,
   "metadata": {},
   "outputs": [],
   "source": []
  },
  {
   "cell_type": "code",
   "execution_count": null,
   "metadata": {},
   "outputs": [],
   "source": []
  },
  {
   "cell_type": "code",
   "execution_count": null,
   "metadata": {},
   "outputs": [],
   "source": []
  },
  {
   "cell_type": "code",
   "execution_count": null,
   "metadata": {},
   "outputs": [],
   "source": []
  },
  {
   "cell_type": "code",
   "execution_count": null,
   "metadata": {},
   "outputs": [],
   "source": []
  },
  {
   "cell_type": "code",
   "execution_count": null,
   "metadata": {},
   "outputs": [],
   "source": []
  },
  {
   "cell_type": "code",
   "execution_count": null,
   "metadata": {},
   "outputs": [],
   "source": []
  },
  {
   "cell_type": "code",
   "execution_count": null,
   "metadata": {},
   "outputs": [],
   "source": []
  }
 ],
 "metadata": {
  "kernelspec": {
   "display_name": "Python 3",
   "language": "python",
   "name": "python3"
  }
 },
 "nbformat": 4,
 "nbformat_minor": 2
}
