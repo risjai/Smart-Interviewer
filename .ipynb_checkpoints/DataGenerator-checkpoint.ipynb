{
 "cells": [
  {
   "cell_type": "code",
   "execution_count": 98,
   "metadata": {},
   "outputs": [],
   "source": [
    "from openpyxl import Workbook\n",
    "from openpyxl.compat import range\n",
    "from openpyxl.utils.dataframe import dataframe_to_rows\n",
    "import pandas as pd\n",
    "import numpy as np\n",
    "from IPython.core.debugger import Tracer"
   ]
  },
  {
   "cell_type": "code",
   "execution_count": 99,
   "metadata": {},
   "outputs": [],
   "source": [
    "#Assign random weights\n",
    "weights = {'Problem Solving': 80, 'Design': 80, 'CS Skills': 50, 'Test Enumeration': 40, 'Communication': 30}"
   ]
  },
  {
   "cell_type": "code",
   "execution_count": 100,
   "metadata": {},
   "outputs": [],
   "source": [
    "def calculateScore(df):\n",
    "    Score = []\n",
    "    for index, row in df.iterrows():\n",
    "        numerator = 0; denominator = 0;\n",
    "        for key, value in weights.items():\n",
    "            if(row[key] != -1):\n",
    "                numerator += row[key]*value\n",
    "                denominator += value\n",
    "        Score.append(numerator/denominator if numerator > 0 else -1)\n",
    "    print(len(Score))\n",
    "    return Score\n",
    "     "
   ]
  },
  {
   "cell_type": "code",
   "execution_count": 101,
   "metadata": {},
   "outputs": [],
   "source": [
    "def calculateFinalCall(df):\n",
    "    FinalCall = []\n",
    "    for x in range (0, 1000):\n",
    "        if(x % 4 == 0):\n",
    "            count = 0\n",
    "            for y in range (0,4):\n",
    "                count += df.loc[x + y]['Interviewer Call']\n",
    "            #print(count)\n",
    "            finalDecision = 1 if count >= 3 else 0\n",
    "            for z in range (0,4):\n",
    "                FinalCall.append(finalDecision)\n",
    "    print(len(FinalCall))\n",
    "    return FinalCall\n",
    "        "
   ]
  },
  {
   "cell_type": "code",
   "execution_count": 102,
   "metadata": {},
   "outputs": [],
   "source": [
    "def computeDecision(score):\n",
    "    percentile70 = np.percentile(score, 70)\n",
    "    percentile50 = np.percentile(score, 50)\n",
    "    Tracer()()\n",
    "    print(percentile70)\n",
    "    if(df['Score'] >= percentile70):\n",
    "         x = 1\n",
    "    elif(df['Score'] < percentile70 and score >= percentile50):\n",
    "        x = np.random.randint(2)\n",
    "    else:\n",
    "        x = 0\n",
    "    return x"
   ]
  },
  {
   "cell_type": "code",
   "execution_count": 103,
   "metadata": {},
   "outputs": [],
   "source": [
    "def script():\n",
    "    wb = Workbook()\n",
    "\n",
    "    # grab the active worksheet\n",
    "    ws = wb.active\n",
    "\n",
    "    # initializeHeaders(ws)\n",
    "    \n",
    "    #Initialize metrics\n",
    "    df = pd.DataFrame(np.random.randint(low=0, high=12, size=(1000, 5)), columns=['Problem Solving', 'Design', 'CS Skills' , 'Test Enumeration' , 'Communication'])\n",
    "    \n",
    "    # Make some fields as -1. Now scores lie within 2 to 9 and empty values are -1\n",
    "    df = df.applymap(lambda x : (-1 if x in (0, 1, 10, 11) else x))\n",
    "    \n",
    "    #Populate intervieweeId\n",
    "    intervieweeId = []\n",
    "    for x in range (1, 1001):\n",
    "        intervieweeId.append(np.ceil(x/4))\n",
    "    df['intervieweeId'] = intervieweeId\n",
    "    \n",
    "    #Populate interviewerId\n",
    "    df['interviewerId'] = np.random.randint(1, 101, df.shape[0])\n",
    "    \n",
    "    #Populate score based on weighted average \n",
    "    df['Score'] = calculateScore(df)\n",
    "    \n",
    "    \n",
    "    df['Interviewer Call'] = df.apply(lambda row : computeDecision, axis =0)\n",
    "    print(df['Interviewer Call'].value_counts())\n",
    "    print(df[df['Interviewer Call'] == 1].count())\n",
    "    \n",
    "    #Populate final call\n",
    "    df['Final Call'] = calculateFinalCall(df)\n",
    "    \n",
    "    #TODO : Make blow comment work, to check actual how many candidates are hired\n",
    "    #print(df.groupby('intervieweeId')['Final Call'].filter(lambda x : x['Final Call'] == 1))\n",
    "    print(df['Final Call'].value_counts())\n",
    "    \n",
    "    print(df.head())\n",
    "    \n",
    "    for r in dataframe_to_rows(df, index=True, header=True):\n",
    "        ws.append(r)\n",
    "\n",
    "    # Save the file\n",
    "    wb.save(\"sample.xlsx\")"
   ]
  },
  {
   "cell_type": "code",
   "execution_count": null,
   "metadata": {
    "scrolled": true
   },
   "outputs": [
    {
     "name": "stderr",
     "output_type": "stream",
     "text": [
      "c:\\users\\sumo\\appdata\\local\\programs\\python\\python35\\lib\\site-packages\\ipykernel_launcher.py:4: DeprecationWarning: `Tracer` is deprecated since version 5.1, directly use `IPython.core.debugger.Pdb.set_trace()`\n",
      "  after removing the cwd from sys.path.\n"
     ]
    },
    {
     "name": "stdout",
     "output_type": "stream",
     "text": [
      "1000\n",
      "> \u001b[1;32m<ipython-input-102-02043cac2596>\u001b[0m(5)\u001b[0;36mcomputeDecision\u001b[1;34m()\u001b[0m\n",
      "\u001b[1;32m      3 \u001b[1;33m    \u001b[0mpercentile50\u001b[0m \u001b[1;33m=\u001b[0m \u001b[0mnp\u001b[0m\u001b[1;33m.\u001b[0m\u001b[0mpercentile\u001b[0m\u001b[1;33m(\u001b[0m\u001b[0mscore\u001b[0m\u001b[1;33m,\u001b[0m \u001b[1;36m50\u001b[0m\u001b[1;33m)\u001b[0m\u001b[1;33m\u001b[0m\u001b[0m\n",
      "\u001b[0m\u001b[1;32m      4 \u001b[1;33m    \u001b[0mTracer\u001b[0m\u001b[1;33m(\u001b[0m\u001b[1;33m)\u001b[0m\u001b[1;33m(\u001b[0m\u001b[1;33m)\u001b[0m\u001b[1;33m\u001b[0m\u001b[0m\n",
      "\u001b[0m\u001b[1;32m----> 5 \u001b[1;33m    \u001b[0mprint\u001b[0m\u001b[1;33m(\u001b[0m\u001b[0mpercentile70\u001b[0m\u001b[1;33m)\u001b[0m\u001b[1;33m\u001b[0m\u001b[0m\n",
      "\u001b[0m\u001b[1;32m      6 \u001b[1;33m    \u001b[1;32mif\u001b[0m\u001b[1;33m(\u001b[0m\u001b[0mdf\u001b[0m\u001b[1;33m[\u001b[0m\u001b[1;34m'Score'\u001b[0m\u001b[1;33m]\u001b[0m \u001b[1;33m>=\u001b[0m \u001b[0mpercentile70\u001b[0m\u001b[1;33m)\u001b[0m\u001b[1;33m:\u001b[0m\u001b[1;33m\u001b[0m\u001b[0m\n",
      "\u001b[0m\u001b[1;32m      7 \u001b[1;33m         \u001b[0mx\u001b[0m \u001b[1;33m=\u001b[0m \u001b[1;36m1\u001b[0m\u001b[1;33m\u001b[0m\u001b[0m\n",
      "\u001b[0m\n",
      "ipdb> \n",
      "ipdb> \n",
      "ipdb> \n",
      "ipdb> \n",
      "ipdb> percentile70\n",
      "6.083333333333333\n"
     ]
    }
   ],
   "source": [
    "    wb = Workbook()\n",
    "\n",
    "    # grab the active worksheet\n",
    "    ws = wb.active\n",
    "\n",
    "    # initializeHeaders(ws)\n",
    "    \n",
    "    #Initialize metrics\n",
    "    df = pd.DataFrame(np.random.randint(low=0, high=12, size=(1000, 5)), columns=['Problem Solving', 'Design', 'CS Skills' , 'Test Enumeration' , 'Communication'])\n",
    "    \n",
    "    # Make some fields as -1. Now scores lie within 2 to 9 and empty values are -1\n",
    "    df = df.applymap(lambda x : (-1 if x in (0, 1, 10, 11) else x))\n",
    "    \n",
    "    #Populate intervieweeId\n",
    "    intervieweeId = []\n",
    "    for x in range (1, 1001):\n",
    "        intervieweeId.append(np.ceil(x/4))\n",
    "    df['intervieweeId'] = intervieweeId\n",
    "    \n",
    "    #Populate interviewerId\n",
    "    df['interviewerId'] = np.random.randint(1, 101, df.shape[0])\n",
    "    \n",
    "    #Populate score based on weighted average \n",
    "    df['Score'] = calculateScore(df)\n",
    "    \n",
    "    \n",
    "    df['Interviewer Call'] = np.vectorize(computeDecision)(df['Score'])"
   ]
  },
  {
   "cell_type": "code",
   "execution_count": 95,
   "metadata": {},
   "outputs": [
    {
     "data": {
      "text/plain": [
       "<bound method IndexOpsMixin.value_counts of 0      NaN\n",
       "1      NaN\n",
       "2      NaN\n",
       "3      NaN\n",
       "4      NaN\n",
       "5      NaN\n",
       "6      NaN\n",
       "7      NaN\n",
       "8      NaN\n",
       "9      NaN\n",
       "10     NaN\n",
       "11     NaN\n",
       "12     NaN\n",
       "13     NaN\n",
       "14     NaN\n",
       "15     NaN\n",
       "16     NaN\n",
       "17     NaN\n",
       "18     NaN\n",
       "19     NaN\n",
       "20     NaN\n",
       "21     NaN\n",
       "22     NaN\n",
       "23     NaN\n",
       "24     NaN\n",
       "25     NaN\n",
       "26     NaN\n",
       "27     NaN\n",
       "28     NaN\n",
       "29     NaN\n",
       "      ... \n",
       "970    NaN\n",
       "971    NaN\n",
       "972    NaN\n",
       "973    NaN\n",
       "974    NaN\n",
       "975    NaN\n",
       "976    NaN\n",
       "977    NaN\n",
       "978    NaN\n",
       "979    NaN\n",
       "980    NaN\n",
       "981    NaN\n",
       "982    NaN\n",
       "983    NaN\n",
       "984    NaN\n",
       "985    NaN\n",
       "986    NaN\n",
       "987    NaN\n",
       "988    NaN\n",
       "989    NaN\n",
       "990    NaN\n",
       "991    NaN\n",
       "992    NaN\n",
       "993    NaN\n",
       "994    NaN\n",
       "995    NaN\n",
       "996    NaN\n",
       "997    NaN\n",
       "998    NaN\n",
       "999    NaN\n",
       "Name: Interviewer Call, Length: 1000, dtype: object>"
      ]
     },
     "execution_count": 95,
     "metadata": {},
     "output_type": "execute_result"
    }
   ],
   "source": [
    "df['Interviewer Call'].value_counts"
   ]
  },
  {
   "cell_type": "code",
   "execution_count": null,
   "metadata": {},
   "outputs": [],
   "source": []
  },
  {
   "cell_type": "code",
   "execution_count": null,
   "metadata": {},
   "outputs": [],
   "source": []
  },
  {
   "cell_type": "code",
   "execution_count": null,
   "metadata": {},
   "outputs": [],
   "source": []
  },
  {
   "cell_type": "code",
   "execution_count": null,
   "metadata": {},
   "outputs": [],
   "source": []
  },
  {
   "cell_type": "code",
   "execution_count": null,
   "metadata": {},
   "outputs": [],
   "source": []
  },
  {
   "cell_type": "code",
   "execution_count": null,
   "metadata": {},
   "outputs": [],
   "source": []
  },
  {
   "cell_type": "code",
   "execution_count": null,
   "metadata": {},
   "outputs": [],
   "source": []
  }
 ],
 "metadata": {
  "kernelspec": {
   "display_name": "Python 3",
   "language": "python",
   "name": "python3"
  },
  "language_info": {
   "codemirror_mode": {
    "name": "ipython",
    "version": 3
   },
   "file_extension": ".py",
   "mimetype": "text/x-python",
   "name": "python",
   "nbconvert_exporter": "python",
   "pygments_lexer": "ipython3",
   "version": "3.5.0"
  }
 },
 "nbformat": 4,
 "nbformat_minor": 2
}
