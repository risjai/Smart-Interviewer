{
 "cells": [
  {
   "cell_type": "code",
   "execution_count": 21,
   "metadata": {},
   "outputs": [],
   "source": [
    "import pandas as pd\n",
    "import numpy as np\n",
    "from sklearn.ensemble import (RandomForestClassifier, AdaBoostClassifier, \n",
    "                              GradientBoostingClassifier, ExtraTreesClassifier)\n",
    "from sklearn.svm import SVC\n",
    "from sklearn.cross_validation import KFold\n",
    "from sklearn.metrics import accuracy_score\n",
    "from IPython.core.debugger import Tracer"
   ]
  },
  {
   "cell_type": "code",
   "execution_count": 22,
   "metadata": {},
   "outputs": [],
   "source": [
    "df = pd.read_csv('final_score_data.csv')"
   ]
  },
  {
   "cell_type": "code",
   "execution_count": 23,
   "metadata": {},
   "outputs": [
    {
     "data": {
      "text/html": [
       "<div>\n",
       "<style scoped>\n",
       "    .dataframe tbody tr th:only-of-type {\n",
       "        vertical-align: middle;\n",
       "    }\n",
       "\n",
       "    .dataframe tbody tr th {\n",
       "        vertical-align: top;\n",
       "    }\n",
       "\n",
       "    .dataframe thead th {\n",
       "        text-align: right;\n",
       "    }\n",
       "</style>\n",
       "<table border=\"1\" class=\"dataframe\">\n",
       "  <thead>\n",
       "    <tr style=\"text-align: right;\">\n",
       "      <th></th>\n",
       "      <th>Call_1</th>\n",
       "      <th>Score_1</th>\n",
       "      <th>Call_2</th>\n",
       "      <th>Score_2</th>\n",
       "      <th>Call_3</th>\n",
       "      <th>Score_3</th>\n",
       "      <th>Call_4</th>\n",
       "      <th>Score_4</th>\n",
       "      <th>Final Call</th>\n",
       "    </tr>\n",
       "  </thead>\n",
       "  <tbody>\n",
       "    <tr>\n",
       "      <th>0</th>\n",
       "      <td>0</td>\n",
       "      <td>2.850000</td>\n",
       "      <td>0</td>\n",
       "      <td>5.391304</td>\n",
       "      <td>1</td>\n",
       "      <td>6.142857</td>\n",
       "      <td>0</td>\n",
       "      <td>4.785714</td>\n",
       "      <td>0</td>\n",
       "    </tr>\n",
       "    <tr>\n",
       "      <th>1</th>\n",
       "      <td>1</td>\n",
       "      <td>8.291667</td>\n",
       "      <td>0</td>\n",
       "      <td>6.086957</td>\n",
       "      <td>1</td>\n",
       "      <td>6.680000</td>\n",
       "      <td>1</td>\n",
       "      <td>7.100000</td>\n",
       "      <td>1</td>\n",
       "    </tr>\n",
       "    <tr>\n",
       "      <th>2</th>\n",
       "      <td>1</td>\n",
       "      <td>6.800000</td>\n",
       "      <td>0</td>\n",
       "      <td>3.684211</td>\n",
       "      <td>0</td>\n",
       "      <td>4.142857</td>\n",
       "      <td>0</td>\n",
       "      <td>3.153846</td>\n",
       "      <td>0</td>\n",
       "    </tr>\n",
       "    <tr>\n",
       "      <th>3</th>\n",
       "      <td>1</td>\n",
       "      <td>7.800000</td>\n",
       "      <td>0</td>\n",
       "      <td>4.157895</td>\n",
       "      <td>0</td>\n",
       "      <td>5.650000</td>\n",
       "      <td>1</td>\n",
       "      <td>7.235294</td>\n",
       "      <td>0</td>\n",
       "    </tr>\n",
       "    <tr>\n",
       "      <th>4</th>\n",
       "      <td>1</td>\n",
       "      <td>6.700000</td>\n",
       "      <td>1</td>\n",
       "      <td>6.750000</td>\n",
       "      <td>0</td>\n",
       "      <td>6.000000</td>\n",
       "      <td>0</td>\n",
       "      <td>4.333333</td>\n",
       "      <td>0</td>\n",
       "    </tr>\n",
       "  </tbody>\n",
       "</table>\n",
       "</div>"
      ],
      "text/plain": [
       "   Call_1   Score_1  Call_2   Score_2  Call_3   Score_3  Call_4   Score_4  \\\n",
       "0       0  2.850000       0  5.391304       1  6.142857       0  4.785714   \n",
       "1       1  8.291667       0  6.086957       1  6.680000       1  7.100000   \n",
       "2       1  6.800000       0  3.684211       0  4.142857       0  3.153846   \n",
       "3       1  7.800000       0  4.157895       0  5.650000       1  7.235294   \n",
       "4       1  6.700000       1  6.750000       0  6.000000       0  4.333333   \n",
       "\n",
       "   Final Call  \n",
       "0           0  \n",
       "1           1  \n",
       "2           0  \n",
       "3           0  \n",
       "4           0  "
      ]
     },
     "execution_count": 23,
     "metadata": {},
     "output_type": "execute_result"
    }
   ],
   "source": [
    "df.head()"
   ]
  },
  {
   "cell_type": "code",
   "execution_count": null,
   "metadata": {},
   "outputs": [],
   "source": []
  },
  {
   "cell_type": "code",
   "execution_count": 24,
   "metadata": {},
   "outputs": [],
   "source": [
    "# df = pd.get_dummies(data=df, columns=['intervieweeId', 'interviewerId'])"
   ]
  },
  {
   "cell_type": "code",
   "execution_count": 25,
   "metadata": {},
   "outputs": [],
   "source": [
    "# Some useful parameters which will come in handy later on\n",
    "ntrain = df.shape[0]\n",
    "SEED = 0 # for reproducibility\n",
    "NFOLDS = 5 # set folds for out-of-fold prediction\n",
    "kf = KFold(ntrain, n_folds= NFOLDS, random_state=SEED)\n",
    "\n",
    "# Class to extend the Sklearn classifier\n",
    "class SklearnHelper(object):\n",
    "    def __init__(self, clf, seed=0, params=None):\n",
    "        params['random_state'] = seed\n",
    "        self.clf = clf(**params)\n",
    "\n",
    "    def train(self, x_train, y_train):\n",
    "        self.clf.fit(x_train, y_train)\n",
    "\n",
    "    def predict(self, x):\n",
    "        return self.clf.predict(x)\n",
    "    \n",
    "    def predict_proba(self, x):\n",
    "        return self.clf.predict_proba(x)\n",
    "    \n",
    "    def fit(self,x,y):\n",
    "        return self.clf.fit(x,y)\n",
    "    \n",
    "    def feature_importances(self,x,y):\n",
    "        print(self.clf.fit(x,y).feature_importances_)"
   ]
  },
  {
   "cell_type": "code",
   "execution_count": 26,
   "metadata": {},
   "outputs": [],
   "source": [
    "def get_oof(clf, x_train, y_train):\n",
    "    oof_train = np.zeros((ntrain,))\n",
    "    meanAccuracyScore = 0.0\n",
    "    \n",
    "    for i, (train_index, valid_index) in enumerate(kf):\n",
    "        x_tr = x_train[train_index]\n",
    "        y_tr = y_train[train_index]\n",
    "        x_va = x_train[valid_index]\n",
    "        y_va = y_train[valid_index]\n",
    "        \n",
    "        clf.train(x_tr, y_tr)\n",
    "        oof_train[valid_index] = clf.predict(x_va)\n",
    "        #print(clf.predict_proba(x_va))\n",
    "        accuracy = accuracy_score(y_va, oof_train[valid_index])\n",
    "        print(accuracy)\n",
    "        meanAccuracyScore = meanAccuracyScore + accuracy\n",
    "\n",
    "    print(\"Accuracy Score\", meanAccuracyScore / NFOLDS)\n",
    "    #oof_test[:] = oof_test_skf.mean(axis=0)\n",
    "    return oof_train.reshape(-1, 1)"
   ]
  },
  {
   "cell_type": "code",
   "execution_count": 27,
   "metadata": {},
   "outputs": [],
   "source": [
    "# Put in our parameters for said classifiers\n",
    "# Random Forest parameters\n",
    "rf_params = {\n",
    "    'n_jobs': -1,\n",
    "    'n_estimators': 500,\n",
    "     'warm_start': True, \n",
    "     #'max_features': 0.2,\n",
    "    'max_depth': 6,\n",
    "    'min_samples_leaf': 2,\n",
    "    'max_features' : 'sqrt',\n",
    "    'verbose': 0\n",
    "}\n",
    "\n",
    "# Extra Trees Parameters\n",
    "et_params = {\n",
    "    'n_jobs': -1,\n",
    "    'n_estimators':500,\n",
    "    #'max_features': 0.5,\n",
    "    'max_depth': 8,\n",
    "    'min_samples_leaf': 2,\n",
    "    'verbose': 0\n",
    "}\n",
    "\n",
    "# AdaBoost parameters\n",
    "ada_params = {\n",
    "    'n_estimators': 500,\n",
    "    'learning_rate' : 0.75\n",
    "}\n",
    "\n",
    "# Gradient Boosting parameters\n",
    "gb_params = {\n",
    "    'n_estimators': 500,\n",
    "     #'max_features': 0.2,\n",
    "    'max_depth': 5,\n",
    "    'min_samples_leaf': 2,\n",
    "    'verbose': 0\n",
    "}"
   ]
  },
  {
   "cell_type": "code",
   "execution_count": 28,
   "metadata": {},
   "outputs": [],
   "source": [
    "# Create 5 objects that represent our 4 models\n",
    "rf = SklearnHelper(clf=RandomForestClassifier, seed=SEED, params=rf_params)\n",
    "et = SklearnHelper(clf=ExtraTreesClassifier, seed=SEED, params=et_params)\n",
    "ada = SklearnHelper(clf=AdaBoostClassifier, seed=SEED, params=ada_params)\n",
    "gb = SklearnHelper(clf=GradientBoostingClassifier, seed=SEED, params=gb_params)"
   ]
  },
  {
   "cell_type": "code",
   "execution_count": 29,
   "metadata": {},
   "outputs": [
    {
     "name": "stdout",
     "output_type": "stream",
     "text": [
      "<class 'pandas.core.frame.DataFrame'>\n",
      "RangeIndex: 250 entries, 0 to 249\n",
      "Data columns (total 9 columns):\n",
      "Call_1        250 non-null int64\n",
      "Score_1       250 non-null float64\n",
      "Call_2        250 non-null int64\n",
      "Score_2       250 non-null float64\n",
      "Call_3        250 non-null int64\n",
      "Score_3       250 non-null float64\n",
      "Call_4        250 non-null int64\n",
      "Score_4       250 non-null float64\n",
      "Final Call    250 non-null int64\n",
      "dtypes: float64(4), int64(5)\n",
      "memory usage: 17.7 KB\n",
      "None\n",
      "<class 'pandas.core.frame.DataFrame'>\n",
      "RangeIndex: 250 entries, 0 to 249\n",
      "Data columns (total 8 columns):\n",
      "Call_1     250 non-null int64\n",
      "Score_1    250 non-null float64\n",
      "Call_2     250 non-null int64\n",
      "Score_2    250 non-null float64\n",
      "Call_3     250 non-null int64\n",
      "Score_3    250 non-null float64\n",
      "Call_4     250 non-null int64\n",
      "Score_4    250 non-null float64\n",
      "dtypes: float64(4), int64(4)\n",
      "memory usage: 15.7 KB\n",
      "None\n",
      "(250, 8)\n",
      "(250,)\n",
      "Extra Trees\n",
      "0.98\n",
      "1.0\n",
      "1.0\n",
      "1.0\n",
      "1.0\n",
      "Accuracy Score 0.9960000000000001\n",
      "Ada boost\n",
      "1.0\n",
      "1.0\n",
      "0.96\n",
      "1.0\n",
      "1.0\n",
      "Accuracy Score 0.992\n",
      "Gradient Boost\n",
      "0.98\n",
      "0.92\n",
      "0.92\n",
      "1.0\n",
      "1.0\n",
      "Accuracy Score 0.9640000000000001\n",
      "Training is complete\n"
     ]
    }
   ],
   "source": [
    "y_train = df['Final Call'].ravel()\n",
    "train = df.drop(['Final Call'], axis=1)\n",
    "print(df.info())\n",
    "print(train.info())\n",
    "x_train = train.values # Creates an array of the train data\n",
    "print(x_train.shape)\n",
    "print(y_train.shape)\n",
    "\n",
    "# Create our OOF train and test predictions. These base results will be used as new features\n",
    "print(\"Extra Trees\")\n",
    "et_oof_train = get_oof(et, x_train, y_train) # Extra Trees\n",
    "#print(\"Random Forest\")\n",
    "#rf_oof_train = get_oof(rf,x_train, y_train) # Random Forest\n",
    "print(\"Ada boost\")\n",
    "ada_oof_train = get_oof(ada, x_train, y_train) # AdaBoost \n",
    "print(\"Gradient Boost\")\n",
    "gb_oof_train = get_oof(gb,x_train, y_train) # Gradient Boost\n",
    "\n",
    "print(\"Training is complete\")"
   ]
  },
  {
   "cell_type": "code",
   "execution_count": null,
   "metadata": {},
   "outputs": [],
   "source": []
  },
  {
   "cell_type": "code",
   "execution_count": 30,
   "metadata": {},
   "outputs": [
    {
     "data": {
      "text/plain": [
       "ExtraTreesClassifier(bootstrap=False, class_weight=None, criterion='gini',\n",
       "           max_depth=None, max_features='auto', max_leaf_nodes=None,\n",
       "           min_impurity_decrease=0.0, min_impurity_split=None,\n",
       "           min_samples_leaf=1, min_samples_split=2,\n",
       "           min_weight_fraction_leaf=0.0, n_estimators=250, n_jobs=1,\n",
       "           oob_score=False, random_state=0, verbose=0, warm_start=False)"
      ]
     },
     "execution_count": 30,
     "metadata": {},
     "output_type": "execute_result"
    }
   ],
   "source": [
    "from sklearn.ensemble import ExtraTreesClassifier\n",
    "forest = ExtraTreesClassifier(n_estimators=250, random_state=0)\n",
    "forest.fit(x_train, y_train)"
   ]
  },
  {
   "cell_type": "code",
   "execution_count": 31,
   "metadata": {},
   "outputs": [],
   "source": [
    "import pickle\n",
    "pickle_out = open(\"extra_trees_score.pickle\", \"wb\")\n",
    "pickle.dump(forest, pickle_out)\n",
    "pickle_out.close()"
   ]
  },
  {
   "cell_type": "code",
   "execution_count": 33,
   "metadata": {},
   "outputs": [
    {
     "name": "stdout",
     "output_type": "stream",
     "text": [
      "0.948\n"
     ]
    }
   ],
   "source": [
    "pickle_in = open(\"extra_trees_score.pickle\", \"rb\")\n",
    "classifier = pickle.load(pickle_in)\n",
    "classifier.predict_proba(x_train[1].reshape(1, -1))[0][1]\n",
    "dummy_row = np.array([1, 9, 1, 9, 1, 7, 1, 8])\n",
    "print(classifier.predict_proba(dummy_row.reshape(1, -1))[0][1])"
   ]
  },
  {
   "cell_type": "code",
   "execution_count": null,
   "metadata": {},
   "outputs": [],
   "source": []
  },
  {
   "cell_type": "code",
   "execution_count": null,
   "metadata": {},
   "outputs": [],
   "source": []
  },
  {
   "cell_type": "code",
   "execution_count": null,
   "metadata": {},
   "outputs": [],
   "source": []
  },
  {
   "cell_type": "code",
   "execution_count": null,
   "metadata": {},
   "outputs": [],
   "source": []
  },
  {
   "cell_type": "code",
   "execution_count": null,
   "metadata": {},
   "outputs": [],
   "source": []
  },
  {
   "cell_type": "code",
   "execution_count": null,
   "metadata": {},
   "outputs": [],
   "source": []
  },
  {
   "cell_type": "code",
   "execution_count": null,
   "metadata": {},
   "outputs": [],
   "source": []
  },
  {
   "cell_type": "code",
   "execution_count": null,
   "metadata": {},
   "outputs": [],
   "source": []
  },
  {
   "cell_type": "code",
   "execution_count": null,
   "metadata": {},
   "outputs": [],
   "source": []
  },
  {
   "cell_type": "code",
   "execution_count": null,
   "metadata": {},
   "outputs": [],
   "source": []
  },
  {
   "cell_type": "code",
   "execution_count": 267,
   "metadata": {},
   "outputs": [
    {
     "name": "stdout",
     "output_type": "stream",
     "text": [
      "   CS Skills  Communication  Design  Problem Solving  Test Enumeration\n",
      "0          4              3       3                3                 9\n",
      "[0.0]\n",
      "[[ 4  3  3  3  9  5 15]]\n",
      "0.948\n"
     ]
    }
   ],
   "source": [
    "import pickle\n",
    "import pandas as pd\n",
    "import numpy as np\n",
    "pickle_in = open(\"extra_trees.pickle\", \"rb\")\n",
    "classifier = pickle.load(pickle_in)\n",
    "# df = pd.DataFrame(np.random.randint(low=0, high=12, size=(1, 5)), columns=['Problem Solving', 'Design', 'CS Skills' , 'Test Enumeration' , 'Communication'])\n",
    "# df = pd.DataFrame([9,9,9,7,8])\n",
    "data = {'Problem Solving' : [3] , 'Design' : [3], 'CS Skills' : [4], 'Test Enumeration' : [9] , 'Communication' : [3] }\n",
    "df = pd.DataFrame(data=data)\n",
    "print(df.head())\n",
    "df = df.applymap(lambda x : (-1 if x in (0, 1, 10, 11) else x))\n",
    "intervieweeId = []\n",
    "for x in range (0, 1):\n",
    "    intervieweeId.append(np.ceil(x/4))\n",
    "print(intervieweeId)\n",
    "df['intervieweeId'] = [5]\n",
    "#Populate interviewerId\n",
    "df['interviewerId'] = np.random.randint(1, 101, df.shape[0])\n",
    "print(df.values)\n",
    "dummY_row = np.array([9, 9, 9, 9, 9, 7, 9])\n",
    "print(classifier.predict_proba(dummY_row.reshape(1, -1))[0][1])"
   ]
  },
  {
   "cell_type": "code",
   "execution_count": null,
   "metadata": {},
   "outputs": [],
   "source": []
  },
  {
   "cell_type": "code",
   "execution_count": null,
   "metadata": {},
   "outputs": [],
   "source": []
  },
  {
   "cell_type": "code",
   "execution_count": null,
   "metadata": {},
   "outputs": [],
   "source": []
  },
  {
   "cell_type": "code",
   "execution_count": null,
   "metadata": {},
   "outputs": [],
   "source": []
  },
  {
   "cell_type": "code",
   "execution_count": null,
   "metadata": {},
   "outputs": [],
   "source": []
  }
 ],
 "metadata": {
  "kernelspec": {
   "display_name": "Python 3",
   "language": "python",
   "name": "python3"
  },
  "language_info": {
   "codemirror_mode": {
    "name": "ipython",
    "version": 3
   },
   "file_extension": ".py",
   "mimetype": "text/x-python",
   "name": "python",
   "nbconvert_exporter": "python",
   "pygments_lexer": "ipython3",
   "version": "3.5.0"
  }
 },
 "nbformat": 4,
 "nbformat_minor": 2
}
